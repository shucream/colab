{
  "nbformat": 4,
  "nbformat_minor": 0,
  "metadata": {
    "colab": {
      "name": "monte_calro_pi.ipynb",
      "provenance": [],
      "collapsed_sections": [],
      "authorship_tag": "ABX9TyOWsWEafmOjPnxTnZw4OxqT",
      "include_colab_link": true
    },
    "kernelspec": {
      "name": "python3",
      "display_name": "Python 3"
    },
    "accelerator": "GPU"
  },
  "cells": [
    {
      "cell_type": "markdown",
      "metadata": {
        "id": "view-in-github",
        "colab_type": "text"
      },
      "source": [
        "<a href=\"https://colab.research.google.com/github/shucream/colab/blob/master/monte_calro_pi.ipynb\" target=\"_parent\"><img src=\"https://colab.research.google.com/assets/colab-badge.svg\" alt=\"Open In Colab\"/></a>"
      ]
    },
    {
      "cell_type": "code",
      "metadata": {
        "id": "K09iw1JXbI_8",
        "colab_type": "code",
        "colab": {}
      },
      "source": [
        "import math\n",
        "import cupy as cp\n",
        "import numpy as np\n",
        "import time"
      ],
      "execution_count": 0,
      "outputs": []
    },
    {
      "cell_type": "code",
      "metadata": {
        "id": "N-NhoowYb1_M",
        "colab_type": "code",
        "outputId": "202d776b-0df3-4b8d-ead9-f5e0fd81dd9b",
        "colab": {
          "base_uri": "https://localhost:8080/",
          "height": 153
        }
      },
      "source": [
        "N = 100000000\n",
        "print(\"ALL: {} \\n\".format(N))\n",
        "\n",
        "start = time.time()\n",
        "\n",
        "points = np.random.uniform(0.0, 1.0, (N, 2))\n",
        "ran_point = np.hypot(ran_x,ran_y)\n",
        "inner  = np.hypot(points[:,0], points[:,1]) < 1\n",
        "Pie = inner.mean() * 4\n",
        "\n",
        "print(\"Pi with NumPy: {} \".format(Pie))\n",
        "\n",
        "elapsed_time = time.time() - start\n",
        "print (\"elapsed_time with NumPy:{0}\".format(elapsed_time) + \"[sec]\\n\")\n",
        "\n",
        "\n",
        "\n",
        "start = time.time()\n",
        "\n",
        "points = cp.random.uniform(0.0, 1.0, (N, 2))\n",
        "ran_point = cp.hypot(ran_x,ran_y)\n",
        "inner  = cp.hypot(points[:,0], points[:,1]) < 1\n",
        "Pie = inner.mean() * 4\n",
        "\n",
        "print(\"Pi with CuPy: {} \".format(Pie))\n",
        "\n",
        "elapsed_time = time.time() - start\n",
        "print (\"elapsed_time with CuPy:{0}\".format(elapsed_time) + \"[sec]\\n\")\n",
        "\n"
      ],
      "execution_count": 38,
      "outputs": [
        {
          "output_type": "stream",
          "text": [
            "ALL: 100000000 \n",
            "\n",
            "Pi with NumPy: 3.14141672 \n",
            "elapsed_time with NumPy:4.239092111587524[sec]\n",
            "\n",
            "Pi with CuPy: 3.14168312 \n",
            "elapsed_time with CuPy:0.12067747116088867[sec]\n",
            "\n"
          ],
          "name": "stdout"
        }
      ]
    }
  ]
}