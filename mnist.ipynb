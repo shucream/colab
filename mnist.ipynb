{
  "nbformat": 4,
  "nbformat_minor": 0,
  "metadata": {
    "colab": {
      "name": "mnist.ipynb",
      "provenance": [],
      "toc_visible": true,
      "authorship_tag": "ABX9TyP0PAthvXeouYxzAHkjfty+",
      "include_colab_link": true
    },
    "kernelspec": {
      "name": "python3",
      "display_name": "Python 3"
    },
    "accelerator": "GPU"
  },
  "cells": [
    {
      "cell_type": "markdown",
      "metadata": {
        "id": "view-in-github",
        "colab_type": "text"
      },
      "source": [
        "<a href=\"https://colab.research.google.com/github/shucream/colab/blob/master/mnist.ipynb\" target=\"_parent\"><img src=\"https://colab.research.google.com/assets/colab-badge.svg\" alt=\"Open In Colab\"/></a>"
      ]
    },
    {
      "cell_type": "code",
      "metadata": {
        "id": "LEGYokt6jtto",
        "colab_type": "code",
        "colab": {
          "base_uri": "https://localhost:8080/",
          "height": 34
        },
        "outputId": "63057185-7d82-4ed0-8467-6c424ab3c807"
      },
      "source": [
        "import numpy as np\n",
        "\n",
        "import keras\n",
        "from keras.datasets import mnist\n",
        "from keras.models import Sequential\n",
        "from keras.layers import Dense, Dropout, Flatten\n",
        "from keras.layers import Conv2D, MaxPooling2D\n",
        "\n",
        "from sklearn.model_selection import train_test_split\n",
        "\n",
        "from matplotlib import pyplot as plt\n",
        "\n",
        "from PIL import Image"
      ],
      "execution_count": 1,
      "outputs": [
        {
          "output_type": "stream",
          "text": [
            "Using TensorFlow backend.\n"
          ],
          "name": "stderr"
        }
      ]
    },
    {
      "cell_type": "markdown",
      "metadata": {
        "id": "WYPd0VQjmZZK",
        "colab_type": "text"
      },
      "source": [
        "# 設定"
      ]
    },
    {
      "cell_type": "code",
      "metadata": {
        "id": "R_yigVQsjaVR",
        "colab_type": "code",
        "colab": {}
      },
      "source": [
        "batch_size = 128\n",
        "size = (28, 28)"
      ],
      "execution_count": 0,
      "outputs": []
    },
    {
      "cell_type": "markdown",
      "metadata": {
        "id": "2fjY3oXBma8N",
        "colab_type": "text"
      },
      "source": [
        "# データセット"
      ]
    },
    {
      "cell_type": "markdown",
      "metadata": {
        "id": "AvaC5-zqmi9J",
        "colab_type": "text"
      },
      "source": [
        "## ダウンロード"
      ]
    },
    {
      "cell_type": "code",
      "metadata": {
        "id": "Df3k6mVUkLjm",
        "colab_type": "code",
        "colab": {
          "base_uri": "https://localhost:8080/",
          "height": 51
        },
        "outputId": "892f3da0-cba8-44ae-b88e-abb7f4341606"
      },
      "source": [
        "(x_train_valid, y_train_valid), (x_test, y_test) = mnist.load_data()"
      ],
      "execution_count": 3,
      "outputs": [
        {
          "output_type": "stream",
          "text": [
            "Downloading data from https://s3.amazonaws.com/img-datasets/mnist.npz\n",
            "11493376/11490434 [==============================] - 1s 0us/step\n"
          ],
          "name": "stdout"
        }
      ]
    },
    {
      "cell_type": "markdown",
      "metadata": {
        "id": "LggEtMRPdHzL",
        "colab_type": "text"
      },
      "source": [
        "## ValidationデータをTrainから抽出"
      ]
    },
    {
      "cell_type": "code",
      "metadata": {
        "id": "zCeRMslSdG7V",
        "colab_type": "code",
        "colab": {}
      },
      "source": [
        "x_train, x_valid, y_train, y_valid = train_test_split(x_train_valid, y_train_valid, test_size=0.175)"
      ],
      "execution_count": 0,
      "outputs": []
    },
    {
      "cell_type": "markdown",
      "metadata": {
        "id": "SQkYKfPYmjyQ",
        "colab_type": "text"
      },
      "source": [
        "## ラベルをベクトルに展開"
      ]
    },
    {
      "cell_type": "code",
      "metadata": {
        "id": "JJ2aPW3nlfcT",
        "colab_type": "code",
        "colab": {}
      },
      "source": [
        "y_train = keras.utils.to_categorical(y_train, 10)\n",
        "y_valid = keras.utils.to_categorical(y_valid, 10)\n",
        "y_test = keras.utils.to_categorical(y_test, 10)"
      ],
      "execution_count": 0,
      "outputs": []
    },
    {
      "cell_type": "markdown",
      "metadata": {
        "id": "osSobtUse9HI",
        "colab_type": "text"
      },
      "source": [
        "## Shape合わせ\n",
        "(データ数 縦 横 色種類) データを0~1で正規化"
      ]
    },
    {
      "cell_type": "code",
      "metadata": {
        "id": "HE3TYmjxeLFP",
        "colab_type": "code",
        "colab": {}
      },
      "source": [
        "x_train = np.expand_dims(x_train, 3) / 255\n",
        "x_valid = np.expand_dims(x_valid, 3) / 255\n",
        "x_test = np.expand_dims(x_test, 3) / 255"
      ],
      "execution_count": 0,
      "outputs": []
    },
    {
      "cell_type": "markdown",
      "metadata": {
        "id": "xGhr0dhNgday",
        "colab_type": "text"
      },
      "source": [
        "# モデル\n"
      ]
    },
    {
      "cell_type": "code",
      "metadata": {
        "id": "R-3D8o_Pgfvt",
        "colab_type": "code",
        "colab": {}
      },
      "source": [
        "def create_cnn():\n",
        "  model = Sequential()\n",
        "  model.add(Conv2D(32, kernel_size=(3, 3), activation='relu', input_shape=(28, 28, 1)))\n",
        "  model.add(Conv2D(64, (3, 3), activation='relu'))\n",
        "  model.add(MaxPooling2D(pool_size=(2, 2)))\n",
        "  model.add(Dropout(0.25))\n",
        "  model.add(Flatten())\n",
        "  model.add(Dense(128, activation='relu'))\n",
        "  model.add(Dropout(0.5))\n",
        "  model.add(Dense(10, activation='softmax'))\n",
        "  model.compile(loss='categorical_crossentropy', optimizer='rmsprop', metrics=['accuracy'])\n",
        "  \n",
        "  return model"
      ],
      "execution_count": 0,
      "outputs": []
    },
    {
      "cell_type": "code",
      "metadata": {
        "id": "HY7xTNMliTnS",
        "colab_type": "code",
        "colab": {}
      },
      "source": [
        "model = create_cnn()"
      ],
      "execution_count": 0,
      "outputs": []
    },
    {
      "cell_type": "markdown",
      "metadata": {
        "id": "Hun1Ytf2fw0i",
        "colab_type": "text"
      },
      "source": [
        "# 学習"
      ]
    },
    {
      "cell_type": "code",
      "metadata": {
        "id": "-bUj7KFAm5S_",
        "colab_type": "code",
        "outputId": "74199e02-0820-45e5-9898-cb50466d839c",
        "colab": {
          "base_uri": "https://localhost:8080/",
          "height": 374
        }
      },
      "source": [
        "history = model.fit(x_train, y_train,\n",
        "                    batch_size=128,\n",
        "                    epochs=10,\n",
        "                    verbose=1,\n",
        "                    validation_data=(x_valid, y_valid))"
      ],
      "execution_count": 29,
      "outputs": [
        {
          "output_type": "stream",
          "text": [
            "Train on 49500 samples, validate on 10500 samples\n",
            "Epoch 1/10\n",
            "49500/49500 [==============================] - 3s 57us/step - loss: 0.0807 - accuracy: 0.9760 - val_loss: 0.0621 - val_accuracy: 0.9812\n",
            "Epoch 2/10\n",
            "49500/49500 [==============================] - 3s 56us/step - loss: 0.0608 - accuracy: 0.9817 - val_loss: 0.0519 - val_accuracy: 0.9860\n",
            "Epoch 3/10\n",
            "49500/49500 [==============================] - 3s 56us/step - loss: 0.0539 - accuracy: 0.9844 - val_loss: 0.0435 - val_accuracy: 0.9872\n",
            "Epoch 4/10\n",
            "49500/49500 [==============================] - 3s 56us/step - loss: 0.0452 - accuracy: 0.9861 - val_loss: 0.0470 - val_accuracy: 0.9880\n",
            "Epoch 5/10\n",
            "49500/49500 [==============================] - 3s 56us/step - loss: 0.0428 - accuracy: 0.9873 - val_loss: 0.0436 - val_accuracy: 0.9868\n",
            "Epoch 6/10\n",
            "49500/49500 [==============================] - 3s 56us/step - loss: 0.0407 - accuracy: 0.9882 - val_loss: 0.0508 - val_accuracy: 0.9864\n",
            "Epoch 7/10\n",
            "49500/49500 [==============================] - 3s 56us/step - loss: 0.0390 - accuracy: 0.9885 - val_loss: 0.0415 - val_accuracy: 0.9891\n",
            "Epoch 8/10\n",
            "49500/49500 [==============================] - 3s 56us/step - loss: 0.0380 - accuracy: 0.9889 - val_loss: 0.0419 - val_accuracy: 0.9889\n",
            "Epoch 9/10\n",
            "49500/49500 [==============================] - 3s 56us/step - loss: 0.0394 - accuracy: 0.9882 - val_loss: 0.0477 - val_accuracy: 0.9886\n",
            "Epoch 10/10\n",
            "49500/49500 [==============================] - 3s 56us/step - loss: 0.0391 - accuracy: 0.9892 - val_loss: 0.0435 - val_accuracy: 0.9896\n"
          ],
          "name": "stdout"
        }
      ]
    },
    {
      "cell_type": "markdown",
      "metadata": {
        "id": "Lr8-UMEii7As",
        "colab_type": "text"
      },
      "source": [
        "# テスト"
      ]
    },
    {
      "cell_type": "code",
      "metadata": {
        "id": "zqOwsa9li84c",
        "colab_type": "code",
        "outputId": "1c9581b5-48ae-4bc3-b2d5-f03904827789",
        "colab": {
          "base_uri": "https://localhost:8080/",
          "height": 1000
        }
      },
      "source": [
        "score = model.evaluate(x_test, y_test, verbose=0)\n",
        "print('Test loss:', score[0])\n",
        "print('Test accuracy:', score[1])\n",
        "z_test = model.predict(x_test)\n",
        "for i in range(10):\n",
        "  plt.imshow(x_test[i].squeeze(), cmap = \"gray\")\n",
        "  plt.axis('off')\n",
        "  plt.title('true={}, predict={}'.format(y_test[i].argmax(), z_test[i].argmax()))\n",
        "  plt.show()"
      ],
      "execution_count": 30,
      "outputs": [
        {
          "output_type": "stream",
          "text": [
            "Test loss: 0.03404800021825649\n",
            "Test accuracy: 0.9900000095367432\n"
          ],
          "name": "stdout"
        },
        {
          "output_type": "display_data",
          "data": {
            "image/png": "[encoded data removed]",
            "text/plain": [
              "<Figure size 432x288 with 1 Axes>"
            ]
          },
          "metadata": {
            "tags": [],
            "needs_background": "light"
          }
        },
        {
          "output_type": "display_data",
          "data": {
            "image/png": "[encoded data removed]",
            "text/plain": [
              "<Figure size 432x288 with 1 Axes>"
            ]
          },
          "metadata": {
            "tags": [],
            "needs_background": "light"
          }
        },
        {
          "output_type": "display_data",
          "data": {
            "image/png": "[encoded data removed]",
            "text/plain": [
              "<Figure size 432x288 with 1 Axes>"
            ]
          },
          "metadata": {
            "tags": [],
            "needs_background": "light"
          }
        },
        {
          "output_type": "display_data",
          "data": {
            "image/png": "[encoded data removed]",
            "text/plain": [
              "<Figure size 432x288 with 1 Axes>"
            ]
          },
          "metadata": {
            "tags": [],
            "needs_background": "light"
          }
        },
        {
          "output_type": "display_data",
          "data": {
            "image/png": "[encoded data removed]",
            "text/plain": [
              "<Figure size 432x288 with 1 Axes>"
            ]
          },
          "metadata": {
            "tags": [],
            "needs_background": "light"
          }
        },
        {
          "output_type": "display_data",
          "data": {
            "image/png": "[encoded data removed]",
            "text/plain": [
              "<Figure size 432x288 with 1 Axes>"
            ]
          },
          "metadata": {
            "tags": [],
            "needs_background": "light"
          }
        },
        {
          "output_type": "display_data",
          "data": {
            "image/png": "[encoded data removed]",
            "text/plain": [
              "<Figure size 432x288 with 1 Axes>"
            ]
          },
          "metadata": {
            "tags": [],
            "needs_background": "light"
          }
        },
        {
          "output_type": "display_data",
          "data": {
            "image/png": "[encoded data removed]",
            "text/plain": [
              "<Figure size 432x288 with 1 Axes>"
            ]
          },
          "metadata": {
            "tags": [],
            "needs_background": "light"
          }
        },
        {
          "output_type": "display_data",
          "data": {
            "image/png": "[encoded data removed]",
            "text/plain": [
              "<Figure size 432x288 with 1 Axes>"
            ]
          },
          "metadata": {
            "tags": [],
            "needs_background": "light"
          }
        },
        {
          "output_type": "display_data",
          "data": {
            "image/png": "[encoded data removed]",
            "text/plain": [
              "<Figure size 432x288 with 1 Axes>"
            ]
          },
          "metadata": {
            "tags": [],
            "needs_background": "light"
          }
        }
      ]
    },
    {
      "cell_type": "code",
      "metadata": {
        "id": "_ZyPZvGYjGb_",
        "colab_type": "code",
        "outputId": "6df21837-6e6d-4210-89a4-78d18c3d4bfe",
        "colab": {
          "base_uri": "https://localhost:8080/",
          "height": 573
        }
      },
      "source": [
        "# 精度のplot\n",
        "plt.plot(history.history['accuracy'], marker='.', label='acc')\n",
        "plt.plot(history.history['val_accuracy'], marker='.', label='val_acc')\n",
        "plt.title('model accuracy')\n",
        "plt.grid()\n",
        "plt.xlabel('epoch')\n",
        "plt.ylabel('accuracy')\n",
        "plt.legend(loc='best')\n",
        "plt.show()\n",
        "\n",
        "# 損失のplot\n",
        "plt.plot(history.history['loss'], marker='.', label='loss')\n",
        "plt.plot(history.history['val_loss'], marker='.', label='val_loss')\n",
        "plt.title('model loss')\n",
        "plt.grid()\n",
        "plt.xlabel('epoch')\n",
        "plt.ylabel('loss')\n",
        "plt.legend(loc='best')\n",
        "plt.show()"
      ],
      "execution_count": 31,
      "outputs": [
        {
          "output_type": "display_data",
          "data": {
            "image/png": "[encoded data removed]",
            "text/plain": [
              "<Figure size 432x288 with 1 Axes>"
            ]
          },
          "metadata": {
            "tags": [],
            "needs_background": "light"
          }
        },
        {
          "output_type": "display_data",
          "data": {
            "image/png": "[encoded data removed]",
            "text/plain": [
              "<Figure size 432x288 with 1 Axes>"
            ]
          },
          "metadata": {
            "tags": [],
            "needs_background": "light"
          }
        }
      ]
    },
    {
      "cell_type": "markdown",
      "metadata": {
        "id": "wSLdwJjwoxg5",
        "colab_type": "text"
      },
      "source": [
        "# 自分の画像を予測"
      ]
    },
    {
      "cell_type": "code",
      "metadata": {
        "id": "7i-xoLnjo1uS",
        "colab_type": "code",
        "outputId": "2f9614e0-a396-4f4b-b3f8-0b7ee204f272",
        "colab": {
          "base_uri": "https://localhost:8080/",
          "height": 204
        }
      },
      "source": [
        "# 画像を読み込んで整形\n",
        "!wget http://www.ess.ic.kanagawa-it.ac.jp/std_img/monoimage/LENNA.jpg\n",
        "original_image = Image.open(f'LENNA.jpg').resize(size)\n",
        "original_data = np.array(original_image) / 255\n",
        "original_data = np.expand_dims(original_data, 0)\n",
        "x_original = np.expand_dims(original_data, 3)"
      ],
      "execution_count": 22,
      "outputs": [
        {
          "output_type": "stream",
          "text": [
            "--2020-06-03 16:36:19--  http://www.ess.ic.kanagawa-it.ac.jp/std_img/monoimage/LENNA.jpg\n",
            "Resolving www.ess.ic.kanagawa-it.ac.jp (www.ess.ic.kanagawa-it.ac.jp)... 202.250.66.20\n",
            "Connecting to www.ess.ic.kanagawa-it.ac.jp (www.ess.ic.kanagawa-it.ac.jp)|202.250.66.20|:80... connected.\n",
            "HTTP request sent, awaiting response... 200 OK\n",
            "Length: 5910 (5.8K) [image/jpeg]\n",
            "Saving to: ‘LENNA.jpg.2’\n",
            "\n",
            "\rLENNA.jpg.2           0%[                    ]       0  --.-KB/s               \rLENNA.jpg.2         100%[===================>]   5.77K  --.-KB/s    in 0s      \n",
            "\n",
            "2020-06-03 16:36:19 (544 MB/s) - ‘LENNA.jpg.2’ saved [5910/5910]\n",
            "\n"
          ],
          "name": "stdout"
        }
      ]
    },
    {
      "cell_type": "code",
      "metadata": {
        "id": "wMpcQ2BipCZY",
        "colab_type": "code",
        "outputId": "c725e4ef-b676-40d9-f659-3bbb04c0df90",
        "colab": {
          "base_uri": "https://localhost:8080/",
          "height": 264
        }
      },
      "source": [
        "z_original = model.predict(x_original)\n",
        "\n",
        "plt.imshow(x_original[0].squeeze(), cmap = \"gray\")\n",
        "plt.title('predict={}'.format(z_original[0].argmax()))\n",
        "plt.axis('off')\n",
        "plt.show()"
      ],
      "execution_count": 32,
      "outputs": [
        {
          "output_type": "display_data",
          "data": {
            "image/png": "[encoded data removed]",
            "text/plain": [
              "<Figure size 432x288 with 1 Axes>"
            ]
          },
          "metadata": {
            "tags": [],
            "needs_background": "light"
          }
        }
      ]
    }
  ]
}